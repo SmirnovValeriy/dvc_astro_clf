{
 "cells": [
  {
   "cell_type": "code",
   "execution_count": 1,
   "id": "6a8578b8-70fd-45b8-88d7-ce76713bdd9d",
   "metadata": {},
   "outputs": [],
   "source": [
    "import pandas as pd"
   ]
  },
  {
   "cell_type": "code",
   "execution_count": 2,
   "id": "f4e358e0-6c32-42c1-bb46-cf79facea21a",
   "metadata": {},
   "outputs": [
    {
     "data": {
      "text/plain": [
       "['sdssdr16_u_psf',\n",
       " 'sdssdr16_g_psf',\n",
       " 'sdssdr16_r_psf',\n",
       " 'sdssdr16_i_psf',\n",
       " 'sdssdr16_z_psf',\n",
       " 'sdssdr16_u_cmodel',\n",
       " 'sdssdr16_i_cmodel',\n",
       " 'sdssdr16_u-g_psf',\n",
       " 'sdssdr16_u-r_psf',\n",
       " 'sdssdr16_u-i_psf',\n",
       " 'sdssdr16_u-z_psf',\n",
       " 'sdssdr16_u_psf-cmodel',\n",
       " 'sdssdr16_g-i_psf',\n",
       " 'sdssdr16_g_psf-cmodel',\n",
       " 'sdssdr16_r-i_psf',\n",
       " 'sdssdr16_i-z_psf',\n",
       " 'sdssdr16_i_psf-cmodel',\n",
       " 'sdssdr16_u_cmodel-decals8tr_Lw1',\n",
       " 'sdssdr16_u_cmodel-decals8tr_Lw2',\n",
       " 'sdssdr16_g_cmodel-decals8tr_Lw1',\n",
       " 'sdssdr16_g_cmodel-decals8tr_Lw2',\n",
       " 'sdssdr16_r_cmodel-decals8tr_Lw1',\n",
       " 'sdssdr16_r_cmodel-decals8tr_Lw2',\n",
       " 'sdssdr16_i_cmodel-decals8tr_Lw1',\n",
       " 'sdssdr16_i_cmodel-decals8tr_Lw2',\n",
       " 'sdssdr16_z_cmodel-decals8tr_Lw1',\n",
       " 'sdssdr16_z_cmodel-decals8tr_Lw2',\n",
       " 'psdr2_i_kron',\n",
       " 'psdr2_y_kron',\n",
       " 'psdr2_g_psf',\n",
       " 'psdr2_r_psf',\n",
       " 'psdr2_i_psf',\n",
       " 'psdr2_z_psf',\n",
       " 'psdr2_y_psf',\n",
       " 'psdr2_g-i_psf',\n",
       " 'psdr2_g-y_psf',\n",
       " 'psdr2_r-i_psf',\n",
       " 'psdr2_r-y_psf',\n",
       " 'psdr2_i-z_psf',\n",
       " 'psdr2_i-y_psf',\n",
       " 'psdr2_i_psf-kron',\n",
       " 'psdr2_z-y_psf',\n",
       " 'psdr2_y_psf-kron',\n",
       " 'psdr2_g_kron-decals8tr_Lw1',\n",
       " 'psdr2_g_kron-decals8tr_Lw2',\n",
       " 'psdr2_r_kron-decals8tr_Lw1',\n",
       " 'psdr2_r_kron-decals8tr_Lw2',\n",
       " 'psdr2_i_kron-decals8tr_Lw1',\n",
       " 'psdr2_i_kron-decals8tr_Lw2',\n",
       " 'psdr2_z_kron-decals8tr_Lw1',\n",
       " 'psdr2_z_kron-decals8tr_Lw2',\n",
       " 'psdr2_y_kron-decals8tr_Lw1',\n",
       " 'psdr2_y_kron-decals8tr_Lw2',\n",
       " 'decals8tr_Lw1-Lw2',\n",
       " 'decals8tr_Lw1',\n",
       " 'decals8tr_Lw2',\n",
       " 'decals8tr_g',\n",
       " 'decals8tr_r',\n",
       " 'decals8tr_z',\n",
       " 'decals8tr_g-r',\n",
       " 'decals8tr_g-z',\n",
       " 'decals8tr_r-z',\n",
       " 'sdssdr16_g_cmodel-decals8tr_g',\n",
       " 'sdssdr16_r_cmodel-decals8tr_r',\n",
       " 'sdssdr16_z_cmodel-decals8tr_z']"
      ]
     },
     "execution_count": 2,
     "metadata": {},
     "output_type": "execute_result"
    }
   ],
   "source": [
    "features = pd.read_pickle('data/features.pkl')\n",
    "features"
   ]
  },
  {
   "cell_type": "code",
   "execution_count": 3,
   "id": "73674799-0f45-4fb1-b314-b8e3da002e7d",
   "metadata": {},
   "outputs": [
    {
     "data": {
      "text/plain": [
       "65"
      ]
     },
     "execution_count": 3,
     "metadata": {},
     "output_type": "execute_result"
    }
   ],
   "source": [
    "len(features)"
   ]
  },
  {
   "cell_type": "code",
   "execution_count": 4,
   "id": "352e52fb-4661-48e4-a888-a4f07038708e",
   "metadata": {},
   "outputs": [],
   "source": [
    "column = 'JAPERMAG3'\n",
    "sdss = [i for i in features if 'sdss' in i and 'decals' not in i and column not in i] "
   ]
  },
  {
   "cell_type": "code",
   "execution_count": 5,
   "id": "fc4b4d22-af44-4bf9-9704-faa6795212e2",
   "metadata": {},
   "outputs": [
    {
     "data": {
      "text/plain": [
       "['sdssdr16_u_psf',\n",
       " 'sdssdr16_g_psf',\n",
       " 'sdssdr16_r_psf',\n",
       " 'sdssdr16_i_psf',\n",
       " 'sdssdr16_z_psf',\n",
       " 'sdssdr16_u_cmodel',\n",
       " 'sdssdr16_i_cmodel',\n",
       " 'sdssdr16_u-g_psf',\n",
       " 'sdssdr16_u-r_psf',\n",
       " 'sdssdr16_u-i_psf',\n",
       " 'sdssdr16_u-z_psf',\n",
       " 'sdssdr16_u_psf-cmodel',\n",
       " 'sdssdr16_g-i_psf',\n",
       " 'sdssdr16_g_psf-cmodel',\n",
       " 'sdssdr16_r-i_psf',\n",
       " 'sdssdr16_i-z_psf',\n",
       " 'sdssdr16_i_psf-cmodel']"
      ]
     },
     "execution_count": 5,
     "metadata": {},
     "output_type": "execute_result"
    }
   ],
   "source": [
    "sdss"
   ]
  },
  {
   "cell_type": "code",
   "execution_count": 7,
   "id": "c047d5bd-dad3-4f5c-847d-e6f8ab35bdd1",
   "metadata": {},
   "outputs": [],
   "source": [
    "df_csv = pd.read_csv('data/cv01.csv')"
   ]
  },
  {
   "cell_type": "code",
   "execution_count": 8,
   "id": "677d4edb-180e-4c9a-9172-3e45fc35de15",
   "metadata": {},
   "outputs": [
    {
     "data": {
      "text/plain": [
       "array(['nrow', 'ra', 'dec', 'zspec', 'zspec_conf', 'sdssdr16_r_cmodel',\n",
       "       'sdssdr16_u_psf', 'sdssdr16_g_psf', 'sdssdr16_r_psf',\n",
       "       'sdssdr16_i_psf', 'sdssdr16_z_psf', 'sdssdr16_u_cmodel',\n",
       "       'sdssdr16_i_cmodel', 'sdssdr16_u-g_psf', 'sdssdr16_u-r_psf',\n",
       "       'sdssdr16_u-i_psf', 'sdssdr16_u-z_psf', 'sdssdr16_u_psf-cmodel',\n",
       "       'sdssdr16_g-i_psf', 'sdssdr16_g_psf-cmodel', 'sdssdr16_r-i_psf',\n",
       "       'sdssdr16_i-z_psf', 'sdssdr16_i_psf-cmodel',\n",
       "       'sdssdr16_u_cmodel-decals8tr_Lw1',\n",
       "       'sdssdr16_u_cmodel-decals8tr_Lw2',\n",
       "       'sdssdr16_g_cmodel-decals8tr_Lw1',\n",
       "       'sdssdr16_g_cmodel-decals8tr_Lw2',\n",
       "       'sdssdr16_r_cmodel-decals8tr_Lw1',\n",
       "       'sdssdr16_r_cmodel-decals8tr_Lw2',\n",
       "       'sdssdr16_i_cmodel-decals8tr_Lw1',\n",
       "       'sdssdr16_i_cmodel-decals8tr_Lw2',\n",
       "       'sdssdr16_z_cmodel-decals8tr_Lw1',\n",
       "       'sdssdr16_z_cmodel-decals8tr_Lw2', 'psdr2_i_kron', 'psdr2_y_kron',\n",
       "       'psdr2_g_psf', 'psdr2_r_psf', 'psdr2_i_psf', 'psdr2_z_psf',\n",
       "       'psdr2_y_psf', 'psdr2_g-i_psf', 'psdr2_g-y_psf', 'psdr2_r-i_psf',\n",
       "       'psdr2_r-y_psf', 'psdr2_i-z_psf', 'psdr2_i-y_psf',\n",
       "       'psdr2_i_psf-kron', 'psdr2_z-y_psf', 'psdr2_y_psf-kron',\n",
       "       'psdr2_g_kron-decals8tr_Lw1', 'psdr2_g_kron-decals8tr_Lw2',\n",
       "       'psdr2_r_kron-decals8tr_Lw1', 'psdr2_r_kron-decals8tr_Lw2',\n",
       "       'psdr2_i_kron-decals8tr_Lw1', 'psdr2_i_kron-decals8tr_Lw2',\n",
       "       'psdr2_z_kron-decals8tr_Lw1', 'psdr2_z_kron-decals8tr_Lw2',\n",
       "       'psdr2_y_kron-decals8tr_Lw1', 'psdr2_y_kron-decals8tr_Lw2',\n",
       "       'decals8tr_Lw1-Lw2', 'decals8tr_Lw1', 'decals8tr_Lw2',\n",
       "       'decals8tr_g', 'decals8tr_r', 'decals8tr_z', 'decals8tr_g-r',\n",
       "       'decals8tr_g-z', 'decals8tr_r-z', 'sdssdr16_g_cmodel-decals8tr_g',\n",
       "       'sdssdr16_r_cmodel-decals8tr_r', 'sdssdr16_z_cmodel-decals8tr_z',\n",
       "       'class', 'ix_', 'ra_', 'dec_', 'nrow_', 'sep_', 'RA', 'DEC',\n",
       "       'JAPERMAG3', 'JAPERMAG3ERR', 'MERGEDCLASS'], dtype=object)"
      ]
     },
     "execution_count": 8,
     "metadata": {},
     "output_type": "execute_result"
    }
   ],
   "source": [
    "df_csv.columns.values"
   ]
  },
  {
   "cell_type": "code",
   "execution_count": 1,
   "id": "a6215f6d-0148-44d1-9bb4-859d64bcf38c",
   "metadata": {},
   "outputs": [],
   "source": [
    "import joblib"
   ]
  },
  {
   "cell_type": "code",
   "execution_count": 3,
   "id": "b7785ef4-7128-41d5-a2ea-ef6e4ace5ee8",
   "metadata": {},
   "outputs": [],
   "source": [
    "robust = joblib.load('models/robust.pkl')"
   ]
  },
  {
   "cell_type": "code",
   "execution_count": 5,
   "id": "464d579b-77f3-4827-b648-6b854958598d",
   "metadata": {},
   "outputs": [
    {
     "data": {
      "text/plain": [
       "array([21.20583683, 20.34199304, 19.86742746, 19.56289175, 19.31815358,\n",
       "       20.58109314, 19.27317333,  0.91127999,  1.48367656,  1.8888338 ,\n",
       "        2.09785752,  0.05867116,  0.73068904,  0.03282532,  0.25839461,\n",
       "        0.22130677,  0.02935733, -0.39403524, 18.53072474, 18.6637966 ,\n",
       "        1.85783024,  1.91523209,  1.32528755,  1.50011515,  0.86033909,\n",
       "        0.97005953,  0.52990619,  0.5403227 ,  0.24839314,  0.16529753,\n",
       "        3.17296757,  1.98908346,  1.56590055,  1.35570953,  1.14907658,\n",
       "        2.42340079,  1.03795979,  0.40291398,  0.46524368, 18.095833  ])"
      ]
     },
     "execution_count": 5,
     "metadata": {},
     "output_type": "execute_result"
    }
   ],
   "source": [
    "robust.center_"
   ]
  },
  {
   "cell_type": "code",
   "execution_count": 6,
   "id": "45d3ec46-3b44-485a-a70f-b5d4beb9b084",
   "metadata": {},
   "outputs": [],
   "source": [
    "import pandas as pd"
   ]
  },
  {
   "cell_type": "code",
   "execution_count": 7,
   "id": "008bd422-2d5f-456d-858f-8dcfc3e2056d",
   "metadata": {},
   "outputs": [
    {
     "ename": "UnicodeDecodeError",
     "evalue": "'utf-8' codec can't decode byte 0x80 in position 0: invalid start byte",
     "output_type": "error",
     "traceback": [
      "\u001b[0;31m---------------------------------------------------------------------------\u001b[0m",
      "\u001b[0;31mUnicodeDecodeError\u001b[0m                        Traceback (most recent call last)",
      "\u001b[0;32m/tmp/ipykernel_23648/1735340027.py\u001b[0m in \u001b[0;36m<module>\u001b[0;34m\u001b[0m\n\u001b[0;32m----> 1\u001b[0;31m \u001b[0mdf\u001b[0m \u001b[0;34m=\u001b[0m \u001b[0mpd\u001b[0m\u001b[0;34m.\u001b[0m\u001b[0mread_csv\u001b[0m\u001b[0;34m(\u001b[0m\u001b[0;34m'data/df_test.csv'\u001b[0m\u001b[0;34m)\u001b[0m\u001b[0;34m\u001b[0m\u001b[0;34m\u001b[0m\u001b[0m\n\u001b[0m",
      "\u001b[0;32m~/.conda/envs/vsmirnov/lib/python3.9/site-packages/pandas/util/_decorators.py\u001b[0m in \u001b[0;36mwrapper\u001b[0;34m(*args, **kwargs)\u001b[0m\n\u001b[1;32m    309\u001b[0m                     \u001b[0mstacklevel\u001b[0m\u001b[0;34m=\u001b[0m\u001b[0mstacklevel\u001b[0m\u001b[0;34m,\u001b[0m\u001b[0;34m\u001b[0m\u001b[0;34m\u001b[0m\u001b[0m\n\u001b[1;32m    310\u001b[0m                 )\n\u001b[0;32m--> 311\u001b[0;31m             \u001b[0;32mreturn\u001b[0m \u001b[0mfunc\u001b[0m\u001b[0;34m(\u001b[0m\u001b[0;34m*\u001b[0m\u001b[0margs\u001b[0m\u001b[0;34m,\u001b[0m \u001b[0;34m**\u001b[0m\u001b[0mkwargs\u001b[0m\u001b[0;34m)\u001b[0m\u001b[0;34m\u001b[0m\u001b[0;34m\u001b[0m\u001b[0m\n\u001b[0m\u001b[1;32m    312\u001b[0m \u001b[0;34m\u001b[0m\u001b[0m\n\u001b[1;32m    313\u001b[0m         \u001b[0;32mreturn\u001b[0m \u001b[0mwrapper\u001b[0m\u001b[0;34m\u001b[0m\u001b[0;34m\u001b[0m\u001b[0m\n",
      "\u001b[0;32m~/.conda/envs/vsmirnov/lib/python3.9/site-packages/pandas/io/parsers/readers.py\u001b[0m in \u001b[0;36mread_csv\u001b[0;34m(filepath_or_buffer, sep, delimiter, header, names, index_col, usecols, squeeze, prefix, mangle_dupe_cols, dtype, engine, converters, true_values, false_values, skipinitialspace, skiprows, skipfooter, nrows, na_values, keep_default_na, na_filter, verbose, skip_blank_lines, parse_dates, infer_datetime_format, keep_date_col, date_parser, dayfirst, cache_dates, iterator, chunksize, compression, thousands, decimal, lineterminator, quotechar, quoting, doublequote, escapechar, comment, encoding, encoding_errors, dialect, error_bad_lines, warn_bad_lines, on_bad_lines, delim_whitespace, low_memory, memory_map, float_precision, storage_options)\u001b[0m\n\u001b[1;32m    584\u001b[0m     \u001b[0mkwds\u001b[0m\u001b[0;34m.\u001b[0m\u001b[0mupdate\u001b[0m\u001b[0;34m(\u001b[0m\u001b[0mkwds_defaults\u001b[0m\u001b[0;34m)\u001b[0m\u001b[0;34m\u001b[0m\u001b[0;34m\u001b[0m\u001b[0m\n\u001b[1;32m    585\u001b[0m \u001b[0;34m\u001b[0m\u001b[0m\n\u001b[0;32m--> 586\u001b[0;31m     \u001b[0;32mreturn\u001b[0m \u001b[0m_read\u001b[0m\u001b[0;34m(\u001b[0m\u001b[0mfilepath_or_buffer\u001b[0m\u001b[0;34m,\u001b[0m \u001b[0mkwds\u001b[0m\u001b[0;34m)\u001b[0m\u001b[0;34m\u001b[0m\u001b[0;34m\u001b[0m\u001b[0m\n\u001b[0m\u001b[1;32m    587\u001b[0m \u001b[0;34m\u001b[0m\u001b[0m\n\u001b[1;32m    588\u001b[0m \u001b[0;34m\u001b[0m\u001b[0m\n",
      "\u001b[0;32m~/.conda/envs/vsmirnov/lib/python3.9/site-packages/pandas/io/parsers/readers.py\u001b[0m in \u001b[0;36m_read\u001b[0;34m(filepath_or_buffer, kwds)\u001b[0m\n\u001b[1;32m    480\u001b[0m \u001b[0;34m\u001b[0m\u001b[0m\n\u001b[1;32m    481\u001b[0m     \u001b[0;31m# Create the parser.\u001b[0m\u001b[0;34m\u001b[0m\u001b[0;34m\u001b[0m\u001b[0m\n\u001b[0;32m--> 482\u001b[0;31m     \u001b[0mparser\u001b[0m \u001b[0;34m=\u001b[0m \u001b[0mTextFileReader\u001b[0m\u001b[0;34m(\u001b[0m\u001b[0mfilepath_or_buffer\u001b[0m\u001b[0;34m,\u001b[0m \u001b[0;34m**\u001b[0m\u001b[0mkwds\u001b[0m\u001b[0;34m)\u001b[0m\u001b[0;34m\u001b[0m\u001b[0;34m\u001b[0m\u001b[0m\n\u001b[0m\u001b[1;32m    483\u001b[0m \u001b[0;34m\u001b[0m\u001b[0m\n\u001b[1;32m    484\u001b[0m     \u001b[0;32mif\u001b[0m \u001b[0mchunksize\u001b[0m \u001b[0;32mor\u001b[0m \u001b[0miterator\u001b[0m\u001b[0;34m:\u001b[0m\u001b[0;34m\u001b[0m\u001b[0;34m\u001b[0m\u001b[0m\n",
      "\u001b[0;32m~/.conda/envs/vsmirnov/lib/python3.9/site-packages/pandas/io/parsers/readers.py\u001b[0m in \u001b[0;36m__init__\u001b[0;34m(self, f, engine, **kwds)\u001b[0m\n\u001b[1;32m    809\u001b[0m             \u001b[0mself\u001b[0m\u001b[0;34m.\u001b[0m\u001b[0moptions\u001b[0m\u001b[0;34m[\u001b[0m\u001b[0;34m\"has_index_names\"\u001b[0m\u001b[0;34m]\u001b[0m \u001b[0;34m=\u001b[0m \u001b[0mkwds\u001b[0m\u001b[0;34m[\u001b[0m\u001b[0;34m\"has_index_names\"\u001b[0m\u001b[0;34m]\u001b[0m\u001b[0;34m\u001b[0m\u001b[0;34m\u001b[0m\u001b[0m\n\u001b[1;32m    810\u001b[0m \u001b[0;34m\u001b[0m\u001b[0m\n\u001b[0;32m--> 811\u001b[0;31m         \u001b[0mself\u001b[0m\u001b[0;34m.\u001b[0m\u001b[0m_engine\u001b[0m \u001b[0;34m=\u001b[0m \u001b[0mself\u001b[0m\u001b[0;34m.\u001b[0m\u001b[0m_make_engine\u001b[0m\u001b[0;34m(\u001b[0m\u001b[0mself\u001b[0m\u001b[0;34m.\u001b[0m\u001b[0mengine\u001b[0m\u001b[0;34m)\u001b[0m\u001b[0;34m\u001b[0m\u001b[0;34m\u001b[0m\u001b[0m\n\u001b[0m\u001b[1;32m    812\u001b[0m \u001b[0;34m\u001b[0m\u001b[0m\n\u001b[1;32m    813\u001b[0m     \u001b[0;32mdef\u001b[0m \u001b[0mclose\u001b[0m\u001b[0;34m(\u001b[0m\u001b[0mself\u001b[0m\u001b[0;34m)\u001b[0m\u001b[0;34m:\u001b[0m\u001b[0;34m\u001b[0m\u001b[0;34m\u001b[0m\u001b[0m\n",
      "\u001b[0;32m~/.conda/envs/vsmirnov/lib/python3.9/site-packages/pandas/io/parsers/readers.py\u001b[0m in \u001b[0;36m_make_engine\u001b[0;34m(self, engine)\u001b[0m\n\u001b[1;32m   1038\u001b[0m             )\n\u001b[1;32m   1039\u001b[0m         \u001b[0;31m# error: Too many arguments for \"ParserBase\"\u001b[0m\u001b[0;34m\u001b[0m\u001b[0;34m\u001b[0m\u001b[0m\n\u001b[0;32m-> 1040\u001b[0;31m         \u001b[0;32mreturn\u001b[0m \u001b[0mmapping\u001b[0m\u001b[0;34m[\u001b[0m\u001b[0mengine\u001b[0m\u001b[0;34m]\u001b[0m\u001b[0;34m(\u001b[0m\u001b[0mself\u001b[0m\u001b[0;34m.\u001b[0m\u001b[0mf\u001b[0m\u001b[0;34m,\u001b[0m \u001b[0;34m**\u001b[0m\u001b[0mself\u001b[0m\u001b[0;34m.\u001b[0m\u001b[0moptions\u001b[0m\u001b[0;34m)\u001b[0m  \u001b[0;31m# type: ignore[call-arg]\u001b[0m\u001b[0;34m\u001b[0m\u001b[0;34m\u001b[0m\u001b[0m\n\u001b[0m\u001b[1;32m   1041\u001b[0m \u001b[0;34m\u001b[0m\u001b[0m\n\u001b[1;32m   1042\u001b[0m     \u001b[0;32mdef\u001b[0m \u001b[0m_failover_to_python\u001b[0m\u001b[0;34m(\u001b[0m\u001b[0mself\u001b[0m\u001b[0;34m)\u001b[0m\u001b[0;34m:\u001b[0m\u001b[0;34m\u001b[0m\u001b[0;34m\u001b[0m\u001b[0m\n",
      "\u001b[0;32m~/.conda/envs/vsmirnov/lib/python3.9/site-packages/pandas/io/parsers/c_parser_wrapper.py\u001b[0m in \u001b[0;36m__init__\u001b[0;34m(self, src, **kwds)\u001b[0m\n\u001b[1;32m     67\u001b[0m         \u001b[0mkwds\u001b[0m\u001b[0;34m[\u001b[0m\u001b[0;34m\"dtype\"\u001b[0m\u001b[0;34m]\u001b[0m \u001b[0;34m=\u001b[0m \u001b[0mensure_dtype_objs\u001b[0m\u001b[0;34m(\u001b[0m\u001b[0mkwds\u001b[0m\u001b[0;34m.\u001b[0m\u001b[0mget\u001b[0m\u001b[0;34m(\u001b[0m\u001b[0;34m\"dtype\"\u001b[0m\u001b[0;34m,\u001b[0m \u001b[0;32mNone\u001b[0m\u001b[0;34m)\u001b[0m\u001b[0;34m)\u001b[0m\u001b[0;34m\u001b[0m\u001b[0;34m\u001b[0m\u001b[0m\n\u001b[1;32m     68\u001b[0m         \u001b[0;32mtry\u001b[0m\u001b[0;34m:\u001b[0m\u001b[0;34m\u001b[0m\u001b[0;34m\u001b[0m\u001b[0m\n\u001b[0;32m---> 69\u001b[0;31m             \u001b[0mself\u001b[0m\u001b[0;34m.\u001b[0m\u001b[0m_reader\u001b[0m \u001b[0;34m=\u001b[0m \u001b[0mparsers\u001b[0m\u001b[0;34m.\u001b[0m\u001b[0mTextReader\u001b[0m\u001b[0;34m(\u001b[0m\u001b[0mself\u001b[0m\u001b[0;34m.\u001b[0m\u001b[0mhandles\u001b[0m\u001b[0;34m.\u001b[0m\u001b[0mhandle\u001b[0m\u001b[0;34m,\u001b[0m \u001b[0;34m**\u001b[0m\u001b[0mkwds\u001b[0m\u001b[0;34m)\u001b[0m\u001b[0;34m\u001b[0m\u001b[0;34m\u001b[0m\u001b[0m\n\u001b[0m\u001b[1;32m     70\u001b[0m         \u001b[0;32mexcept\u001b[0m \u001b[0mException\u001b[0m\u001b[0;34m:\u001b[0m\u001b[0;34m\u001b[0m\u001b[0;34m\u001b[0m\u001b[0m\n\u001b[1;32m     71\u001b[0m             \u001b[0mself\u001b[0m\u001b[0;34m.\u001b[0m\u001b[0mhandles\u001b[0m\u001b[0;34m.\u001b[0m\u001b[0mclose\u001b[0m\u001b[0;34m(\u001b[0m\u001b[0;34m)\u001b[0m\u001b[0;34m\u001b[0m\u001b[0;34m\u001b[0m\u001b[0m\n",
      "\u001b[0;32m~/.conda/envs/vsmirnov/lib/python3.9/site-packages/pandas/_libs/parsers.pyx\u001b[0m in \u001b[0;36mpandas._libs.parsers.TextReader.__cinit__\u001b[0;34m()\u001b[0m\n",
      "\u001b[0;32m~/.conda/envs/vsmirnov/lib/python3.9/site-packages/pandas/_libs/parsers.pyx\u001b[0m in \u001b[0;36mpandas._libs.parsers.TextReader._get_header\u001b[0;34m()\u001b[0m\n",
      "\u001b[0;32m~/.conda/envs/vsmirnov/lib/python3.9/site-packages/pandas/_libs/parsers.pyx\u001b[0m in \u001b[0;36mpandas._libs.parsers.TextReader._tokenize_rows\u001b[0;34m()\u001b[0m\n",
      "\u001b[0;32m~/.conda/envs/vsmirnov/lib/python3.9/site-packages/pandas/_libs/parsers.pyx\u001b[0m in \u001b[0;36mpandas._libs.parsers.raise_parser_error\u001b[0;34m()\u001b[0m\n",
      "\u001b[0;31mUnicodeDecodeError\u001b[0m: 'utf-8' codec can't decode byte 0x80 in position 0: invalid start byte"
     ]
    }
   ],
   "source": [
    "df = pd.read_csv('data/df_test.csv')"
   ]
  },
  {
   "cell_type": "code",
   "execution_count": null,
   "id": "9a690044-1c4f-40e0-8fbe-fd16d5482cde",
   "metadata": {},
   "outputs": [],
   "source": []
  }
 ],
 "metadata": {
  "kernelspec": {
   "display_name": "Python 3 (ipykernel)",
   "language": "python",
   "name": "python3"
  },
  "language_info": {
   "codemirror_mode": {
    "name": "ipython",
    "version": 3
   },
   "file_extension": ".py",
   "mimetype": "text/x-python",
   "name": "python",
   "nbconvert_exporter": "python",
   "pygments_lexer": "ipython3",
   "version": "3.9.7"
  }
 },
 "nbformat": 4,
 "nbformat_minor": 5
}
